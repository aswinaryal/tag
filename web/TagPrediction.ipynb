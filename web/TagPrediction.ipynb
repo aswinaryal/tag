{
 "metadata": {
  "name": "",
  "signature": "sha256:2bb6223816e3a1635a80230c3f072480af177c2eb74b82b3b0cf235c8d986a8b"
 },
 "nbformat": 3,
 "nbformat_minor": 0,
 "worksheets": [
  {
   "cells": [
    {
     "cell_type": "markdown",
     "metadata": {},
     "source": [
      "#Predicting Tags for StackExchange Posts\n",
      "\n",
      "by En-Hsin Peng. A 2015 Data Incubator Project.\n",
      "\n",
      "##Overview and Motivation\n",
      "Tagging is a popular way to categorize content on the web. It allows users to find related posts or to spot topics that are trending among the site easily.  A automated tagging system is useful for tag suggestion, tag validation, and article classification. In this project, I used machine learning to identify tags for questions asked at StackExchange sites. \n",
      "\n",
      "The dataset is obtained from <a href=\"https://www.kaggle.com/c/facebook-recruiting-iii-keyword-extraction/\">Kaggle competition</a>. It contains\n",
      "<ul>\n",
      "<li>6 million posts from StackExchange sites (e.g., StackOverflow, MathOverflow, AskUbuntu)</li>\n",
      "<li>1-2 million unique words, phrases</li>\n",
      "<li>42,048 different tags</li>\n",
      "<li>Each post has 1 to 5 tags</li>\n",
      "</ul>\n",
      "\n",
      "The goal is to predict each question's tags using its text and title.\n",
      "\n",
      "#Approach\n",
      "<ul>\n",
      "<li>Remove duplicated examples from the training set. This reduced the training set to 4 million posts.</li>\n",
      "<li>Remove html tags, punctuations, 200 english stopwords, convert to lowercase. Separate code block from the text in the body.</li>\n",
      "<li>One-vs-rest logistic regression with SGD for the first 1000 tags. I first used linear SVM + TfidfVectorizer to train each tag, but it couldn't handle the whole data set. Then I took <a href=\"http://scikit-learn.org/stable/auto_examples/applications/plot_out_of_core_classification.html\">out-of-core learning</a> approach and sticked with SGD because naive Bayes was slow. I decided to use 'log' (logistic regression) as the loss function instead of 'hinge' (linear SVM) because I need the probability at the end after all. But training one tag at a time is not very efficient because there are tens of thousands more tags to be trained. After some research (aka. googling), I found the following baseline approach very useful.</li>\n",
      "<li>Build tag-word co-occurrence matrix for words in title, body, code separately. For every unique word in the text, I count how many times the word and a particular tag appear in the same post. It is then normalized by the occurrences of the word in the training set.</li>\n",
      "$$M_{ij} = P(\\mbox{tag}_i | \\mbox{word}_j)$$\n",
      "<li>Generate a custom stopword list from the training set with words that often give wrong tag suggestion for the text in the body and code (Figure 2). Top misleading words in the body are 'page', 'app', 'function', 'method', 'application', and 'html'. Top misleading words in the code are 'new', 'function', 'var', 'int', and 'string'. I built 43k and 46k stopword lists for the body and the code. The list is only for co-occurrence matrix. </li>\n",
      "<li>Combine title, body, code co-occurrence matrices and 1000 SGD models and find the threshold probability for predicting exact number of tags.</li>\n",
      "</ul>\n",
      "\n",
      "#### Evaluation Metrics\n",
      "\n",
      "F1 score:  $\\frac{2\\,p\\,r}{p+r}$\n",
      "\n",
      "where $p$ is the precision, the ratio of true positive to all predicted positive (true positive + false positive), and $r$ is the recall, the ratio of true positive to all actual positives (true positive + false negative).\n",
      "\n",
      "For multi-tag prediction, the performance is evaluated by a <a href=\"https://www.kaggle.com/wiki/MeanFScore\">mean F1 score</a>.\n",
      "\n",
      "\n",
      "#Results\n",
      "<ul>\n",
      "<li>Single tag accuracy = 0.728 on unseen non-duplicated 42,250 examples (Figure 1). Title text alone gives 0.660 accuracy. </li>\n",
      "<li>Multi-tag prediction mean F1 score = 0.490. If adding 108.7% more known data to this set to mimic the actual Kaggle's test set, which has many duplicate examples from the training set, the F1 score is inflated to 0.756. Although this score is not very impressive compared with the top of the competition (0.814 by Owen), I'm quite happy with the result that I can pull all of the things together and report a score. I learn a lot about sklearn and text analysis in 3 weeks.</li>\n",
      "<li>Code can be found <a href=\"https://github.com/enhsin/tag/\">here</a>.</li>\n",
      "</ul>\n",
      "\n",
      "#Areas of Improvement\n",
      "<ul>\n",
      "<li>Using more sophisticated parsing, adding bigrams. Extracting features in the code blocks more carefully (should keep all -> : ; // # syntax). Having different rules for posts with and without the code block. Building more effective stopword lists.</li>\n",
      "<li>Optimizing the weight of each model when combining the models.</li>\n",
      "<li>Working on dimensionality reduction so that all the tag-word matrices and regression coefficients can fit into RAM. It also makes prediction run faster.</li>\n",
      "<li>Exploring tag-tag suggestion.</li>\n",
      "</ul>"
     ]
    },
    {
     "cell_type": "markdown",
     "metadata": {},
     "source": [
      "#Analysis\n",
      "### Single Tag Accuracy\n",
      "(accuracy of the first, most probable tag)"
     ]
    },
    {
     "cell_type": "code",
     "collapsed": false,
     "input": [
      "import matplotlib.pyplot as plt\n",
      "import numpy as np\n",
      "from coOccurrence1 import singleTagAccuracy\n",
      "\n",
      "xlab = ['title', 'title+body', 'all', 'all+1000SGD']\n",
      "#accu_test = singleTagAccuracy()\n",
      "accu_test = [0.659881656805, 0.679692307692, 0.693420118343, 0.727526627219]\n",
      "colr = ['#FF0000','#FF8C00','#FFFF00','#32CD32']\n",
      "idx = np.arange(4)\n",
      "\n",
      "fig=plt.figure()\n",
      "ax=fig.add_subplot(111)\n",
      "ax.set_title('Performance on Predicting a Single Tag')\n",
      "ax.set_ylabel('Accuracy')\n",
      "for i in range(4):\n",
      "    ax.bar(idx[i],accu_test[i], width=0.5, color=colr[i],alpha=0.6,ec='none')\n",
      "ax.set_xticks(idx+0.25)\n",
      "ax.set_xlim([0-0.25,3+0.75])\n",
      "ax.set_xticklabels(xlab)\n",
      "ax.spines['top'].set_visible(False)\n",
      "ax.spines['right'].set_visible(False)\n",
      "ax.yaxis.set_ticks_position('none')\n",
      "ax.xaxis.set_ticks_position('none')\n",
      "ax.xaxis.tick_bottom()\n",
      "ax.yaxis.tick_left()\n"
     ],
     "language": "python",
     "metadata": {},
     "outputs": [
      {
       "metadata": {},
       "output_type": "display_data",
       "png": "[encoded data removed]",
       "text": [
        "<matplotlib.figure.Figure at 0x7fa21e3de250>"
       ]
      }
     ],
     "prompt_number": 2
    },
    {
     "cell_type": "markdown",
     "metadata": {},
     "source": [
      "**Figure 1.** When predicting the first tag, title co-occurrence matrix alone gives an accuracy of 0.660. Combining with body, code co-occurrence matrices and SGD fits of top 1000 tags, the accuracy increases to 0.728.\n",
      "\n",
      "###Accuracy of Suggested Tags"
     ]
    },
    {
     "cell_type": "code",
     "collapsed": false,
     "input": [
      "import cPickle as pickle\n",
      "nset=46\n",
      "npred=20\n",
      "setNum=1\n",
      "typ='test'\n",
      "opt0='n'+str(nset)+'t'+str(npred)+typ+str(setNum)\n",
      "fn=['title_accu_'+opt0+'.pkl','body_accu_'+opt0+'.pkl','body_accu_'+opt0+'sw1.pkl','code_accu_'+opt0+'.pkl','code_accu_'+opt0+'sw1.pkl']\n",
      "labs=['title','body','body+stopword','code','code+stopword']\n",
      "lsty=['-','-','--','-','--']\n",
      "clr=['b','r','r','k','k']\n",
      "accu={}\n",
      "for i in range(5):\n",
      "    with open('data/'+fn[i], 'rb') as infile:\n",
      "        x = pickle.load(infile)\n",
      "    accu[i]=x.sum(0).A.flatten()/float(x.shape[0])\n",
      "    \n",
      "idx=range(1,21)\n",
      "fig=plt.figure()\n",
      "ax=fig.add_subplot(111)\n",
      "ax.set_title('Suggested Tags Accuracy')\n",
      "for i in range(5):\n",
      "    ax.plot(idx,accu[i],color=clr[i],linestyle=lsty[i],label=labs[i])\n",
      "ax.set_ylabel('Accuracy')\n",
      "ax.set_xlabel('Tag #')\n",
      "ax.set_xlim([1,10])\n",
      "ax.set_ylim([1e-2,1])\n",
      "ax.set_yscale('log')\n",
      "plt.legend(loc='best',frameon=False)"
     ],
     "language": "python",
     "metadata": {},
     "outputs": [
      {
       "metadata": {},
       "output_type": "pyout",
       "prompt_number": 8,
       "text": [
        "<matplotlib.legend.Legend at 0x7fa21cc94bd0>"
       ]
      },
      {
       "metadata": {},
       "output_type": "display_data",
       "png": "[encoded data removed]",
       "text": [
        "<matplotlib.figure.Figure at 0x7fa21d0ec990>"
       ]
      }
     ],
     "prompt_number": 8
    },
    {
     "cell_type": "markdown",
     "metadata": {},
     "source": [
      "**Figure 2.** Performance of the co-occurrence matrix method for the first 1-10 tags. Title words (blue) are very useful for tag prediction since they are concise and relevant. Implementing stopwords for body text (red dashed vs. red solid) significantly increases the accuracy of the first few tags. Although it also decreases the accuracy of tags beyond the first 5s because some indicative words are removed, this doesn't affect the final result because only the first 1-5 tags can be recommended.\n",
      "###Multiple Tag Prediction"
     ]
    },
    {
     "cell_type": "code",
     "collapsed": false,
     "input": [
      "from sklearn.externals import joblib\n",
      "from mean_f1 import mean_f1\n",
      "nset=46\n",
      "npred=20\n",
      "setNum=1\n",
      "typ='test'\n",
      "opt0='n'+str(nset)+'t'+str(npred)+typ+str(setNum)+'sgd'\n",
      "with open('data/all_tagIdx_'+opt0+'.pkl', 'rb') as infile:\n",
      "    tagIdx = pickle.load(infile)\n",
      "with open('data/all_tagProb_'+opt0+'.pkl', 'rb') as infile:\n",
      "    tagProb = pickle.load(infile)\n",
      "with open('data/xtag_'+typ+str(setNum)+'.pkl', 'rb') as infile:\n",
      "    xtag = pickle.load(infile)\n",
      "svm = joblib.load('data/svc_n46t20cv3sgd.pkl')\n",
      "n = tagProb.shape[0]\n",
      "y_true=[]\n",
      "y_pred=[]\n",
      "for i, d in xtag.items():\n",
      "    X = np.reshape(tagProb[i,:], (npred, 1))\n",
      "    y = svm.predict(X)\n",
      "    idx=np.nonzero(y)\n",
      "    npredTags=len(idx[0])\n",
      "    tags = []\n",
      "    if npredTags==0:\n",
      "        tags.append(tagIdx[i,0])\n",
      "    elif npredTags>5:\n",
      "        for t in xrange(5):\n",
      "            tags.append(tagIdx[i,t])\n",
      "    else:\n",
      "        for ti in idx[0]:\n",
      "            tags.append(tagIdx[i,ti])\n",
      "    y_pred.append(tags)\n",
      "    y_true.append(list(d))   \n",
      "        \n",
      "\n",
      "print 'mean F1 score %.3f' %  (mean_f1(y_true, y_pred))\n",
      "\n",
      "n2 = int(n*1.08687)\n",
      "for i in xrange(n2):\n",
      "    y_pred.append([1,2,3])\n",
      "    y_true.append([1,2,3])\n",
      "print 'mean F1 score %.3f (with duplicate data from the training set)' %  (mean_f1(y_true, y_pred))\n"
     ],
     "language": "python",
     "metadata": {},
     "outputs": [
      {
       "output_type": "stream",
       "stream": "stdout",
       "text": [
        "mean F1 score 0.490\n",
        "mean F1 score 0.756 (with duplicate data from the training set)"
       ]
      },
      {
       "output_type": "stream",
       "stream": "stdout",
       "text": [
        "\n"
       ]
      }
     ],
     "prompt_number": 4
    },
    {
     "cell_type": "markdown",
     "metadata": {},
     "source": [
      "##Reference\n",
      "<ul>\n",
      "<li>Kaggle <a href=\"https://www.kaggle.com/c/facebook-recruiting-iii-keyword-extraction/\">Facebook Recruiting III - Keyword Extraction</a></li>\n",
      "<li>James Hong & Michael Fang <a href=\"http://cs229.stanford.edu/proj2013/FangHong-Keyword%20Extraction%20and%20Semantic%20Tag%20Prediction.pdf\">Keyword Extraction and Semantic Tag Prediction</a></li>\n",
      "<li>Chintan Parikh <a href=\"http://cs229.stanford.edu/proj2013/Parikh-IdentifyTagsFromMillionsOfTextQuestion.pdf\">Identifying Tags from millions of text question</a></li>\n",
      "<li>Yaser Martinez Palenzuela <a href=\"http://yasermartinez.com/blog/posts/stack-exchange-tag-predictions.html\">Stack Exchange tag predictions</a></li>\n",
      "<li>scikit-learn <a href=\"http://scikit-learn.org/stable/auto_examples/applications/plot_out_of_core_classification.html\">Out-of-core classification of text documents</a></li>\n",
      "</ul>\n"
     ]
    }
   ],
   "metadata": {}
  }
 ]
}